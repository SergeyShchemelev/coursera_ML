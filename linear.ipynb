{
 "cells": [
  {
   "cell_type": "code",
   "execution_count": 1,
   "metadata": {},
   "outputs": [
    {
     "name": "stderr",
     "output_type": "stream",
     "text": [
      "D:\\soft\\Miniconda3\\lib\\site-packages\\sklearn\\linear_model\\stochastic_gradient.py:128: FutureWarning: max_iter and tol parameters have been added in <class 'sklearn.linear_model.perceptron.Perceptron'> in 0.19. If both are left unset, they default to max_iter=5 and tol=None. If tol is not None, max_iter defaults to max_iter=1000. From 0.21, default max_iter will be 1000, and default tol will be 1e-3.\n",
      "  \"and default tol will be 1e-3.\" % type(self), FutureWarning)\n",
      "D:\\soft\\Miniconda3\\lib\\site-packages\\sklearn\\utils\\validation.py:578: DataConversionWarning: A column-vector y was passed when a 1d array was expected. Please change the shape of y to (n_samples, ), for example using ravel().\n",
      "  y = column_or_1d(y, warn=True)\n"
     ]
    },
    {
     "data": {
      "text/plain": [
       "0.18999999999999995"
      ]
     },
     "execution_count": 1,
     "metadata": {},
     "output_type": "execute_result"
    }
   ],
   "source": [
    "import pandas as pd\n",
    "import numpy as np\n",
    "from sklearn.metrics import accuracy_score\n",
    "from sklearn.linear_model import Perceptron\n",
    "from sklearn.preprocessing import StandardScaler\n",
    "\n",
    "#линейные методы классификации\n",
    "\n",
    "#загрузка данных\n",
    "y_train = pd.read_csv('train.csv',usecols = [0],header = None)\n",
    "x_train = pd.read_csv('train.csv',usecols = [1,2],header = None)\n",
    "y_test = pd.read_csv('test.csv',usecols = [0],header = None)\n",
    "x_test = pd.read_csv('test.csv',usecols = [1,2],header = None)\n",
    "#перцептрон и обучение\n",
    "prc = Perceptron(random_state=241)\n",
    "prc.fit(x_train, y_train)\n",
    "#предикшн\n",
    "pred = prc.predict(x_test)\n",
    "acc = accuracy_score(y_test,pred)\n",
    "#нормализация данных\n",
    "scaler = StandardScaler()\n",
    "x_trainscaled = scaler.fit_transform(x_train)\n",
    "x_testscaled = scaler.transform(x_test)\n",
    "prc.fit(x_trainscaled, y_train)\n",
    "pred = prc.predict(x_testscaled)\n",
    "acc1 = accuracy_score(y_test, pred)\n",
    "#разница точности при использовании нормализованных данных\n",
    "acc1-acc"
   ]
  },
  {
   "cell_type": "code",
   "execution_count": null,
   "metadata": {},
   "outputs": [],
   "source": []
  }
 ],
 "metadata": {
  "kernelspec": {
   "display_name": "Python 3",
   "language": "python",
   "name": "python3"
  },
  "language_info": {
   "codemirror_mode": {
    "name": "ipython",
    "version": 3
   },
   "file_extension": ".py",
   "mimetype": "text/x-python",
   "name": "python",
   "nbconvert_exporter": "python",
   "pygments_lexer": "ipython3",
   "version": "3.6.4"
  }
 },
 "nbformat": 4,
 "nbformat_minor": 2
}
