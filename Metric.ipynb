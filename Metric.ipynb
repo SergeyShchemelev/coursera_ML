{
 "cells": [
  {
   "cell_type": "code",
   "execution_count": 7,
   "metadata": {},
   "outputs": [],
   "source": [
    "import pandas as pd\n",
    "from sklearn.model_selection import KFold\n",
    "from sklearn.model_selection import cross_val_score\n",
    "from sklearn.preprocessing import scale\n",
    "from sklearn.neighbors import KNeighborsClassifier\n",
    "\n",
    "#метрические методы задание 1\n",
    "\n",
    "#загрузка данных и выбор целевой переменной\n",
    "d=pd.read_csv('wine_data.csv',names = ['class','alcohol','malic_acid','ash','alcalinity_of_ash','magnesium','total_phenols','flavanoids','nonflavanoid_phenols','proanthocyanins','color_intensity','hue','OD280/OD315','proline'])\n",
    "w_class = d['class']\n",
    "w_atrib = d[['alcohol','malic_acid','ash','alcalinity_of_ash','magnesium','total_phenols','flavanoids','nonflavanoid_phenols','proanthocyanins','color_intensity','hue','OD280/OD315','proline']]\n",
    "gen = KFold(random_state = 42, shuffle = True, n_splits = 5)\n",
    "#нормирование датасета\n",
    "w_atrib = scale(w_atrib)\n",
    "k_list = []\n",
    "#метод ближайших соседей с разным числом соседей \n",
    "for k in range(1,50):\n",
    "    classificator = KNeighborsClassifier(n_neighbors=k)\n",
    "    a=cross_val_score(estimator = classificator, X = w_atrib, y = w_class, cv = gen)\n",
    "    k_list.append(a.mean())\n",
    "print(max(k_list), k_list.index(max(k_list)))"
   ]
  },
  {
   "cell_type": "code",
   "execution_count": 5,
   "metadata": {},
   "outputs": [
    {
     "name": "stdout",
     "output_type": "stream",
     "text": [
      "Index(['PassengerId', 'Survived', 'Pclass', 'Name', 'Sex', 'Age', 'SibSp',\n",
      "       'Parch', 'Ticket', 'Fare', 'Cabin', 'Embarked'],\n",
      "      dtype='object')\n"
     ]
    }
   ],
   "source": [
    "import numpy as np\n",
    "from sklearn import datasets\n",
    "\n",
    "#метрические методы задание 2\n",
    "d = datasets.load_boston()\n",
    "X = d.data\n",
    "y = d.target\n",
    "X = sklearn.preprocessing.scale(X)\n",
    "gen = KFold(random_state = 42, shuffle = True, n_splits = 5)\n",
    "p_list = []\n",
    "for p in np.linspace(1,10,200):\n",
    "    regressor = KNeighborsRegressor(weights = 'distance')\n",
    "    a = cross_val_score(estimator = regressor, X = X, y = y, cv = gen, scoring = 'neg_mean_squared_error')\n",
    "    p_list.append(a.mean())\n",
    "print(max(p_list), p_list.index(max(p_list)))"
   ]
  },
  {
   "cell_type": "code",
   "execution_count": null,
   "metadata": {},
   "outputs": [],
   "source": []
  }
 ],
 "metadata": {
  "kernelspec": {
   "display_name": "Python 3",
   "language": "python",
   "name": "python3"
  },
  "language_info": {
   "codemirror_mode": {
    "name": "ipython",
    "version": 3
   },
   "file_extension": ".py",
   "mimetype": "text/x-python",
   "name": "python",
   "nbconvert_exporter": "python",
   "pygments_lexer": "ipython3",
   "version": "3.6.4"
  }
 },
 "nbformat": 4,
 "nbformat_minor": 2
}
